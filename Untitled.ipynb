{
 "cells": [
  {
   "cell_type": "code",
   "execution_count": 1,
   "id": "877641c5",
   "metadata": {},
   "outputs": [
    {
     "ename": "UnsupportedOperation",
     "evalue": "read",
     "output_type": "error",
     "traceback": [
      "\u001b[1;31m---------------------------------------------------------------------------\u001b[0m",
      "\u001b[1;31mUnsupportedOperation\u001b[0m                      Traceback (most recent call last)",
      "Cell \u001b[1;32mIn[1], line 9\u001b[0m\n\u001b[0;32m      7\u001b[0m \u001b[38;5;66;03m# Load the trained preterm classifier model\u001b[39;00m\n\u001b[0;32m      8\u001b[0m \u001b[38;5;28;01mwith\u001b[39;00m \u001b[38;5;28mopen\u001b[39m(\u001b[38;5;124m'\u001b[39m\u001b[38;5;124mrandomForest_model.pkl\u001b[39m\u001b[38;5;124m'\u001b[39m, \u001b[38;5;124m'\u001b[39m\u001b[38;5;124mwb\u001b[39m\u001b[38;5;124m'\u001b[39m) \u001b[38;5;28;01mas\u001b[39;00m model_file:\n\u001b[1;32m----> 9\u001b[0m     randomForest \u001b[38;5;241m=\u001b[39m pickle\u001b[38;5;241m.\u001b[39mload(model_file)\n\u001b[0;32m     11\u001b[0m \u001b[38;5;66;03m# Initialize Flask app\u001b[39;00m\n\u001b[0;32m     12\u001b[0m app \u001b[38;5;241m=\u001b[39m Flask(\u001b[38;5;18m__name__\u001b[39m)\n",
      "\u001b[1;31mUnsupportedOperation\u001b[0m: read"
     ]
    }
   ],
   "source": [
    "# Import necessary libraries\n",
    "import pickle\n",
    "import numpy as np\n",
    "from flask import Flask, request, jsonify\n",
    "\n",
    "\n",
    "# Load the trained preterm classifier model\n",
    "with open('randomForest_model.pkl', 'wb') as model_file:\n",
    "    randomForest = pickle.load(model_file)\n",
    "\n",
    "# Initialize Flask app\n",
    "app = Flask(__name__)\n",
    "\n",
    "# Define a route for model prediction\n",
    "@app.route('/predict', methods=['POST'])\n",
    "def predict():\n",
    "    try:\n",
    "        # Get input data from request\n",
    "        data = request.get_json()\n",
    "        \n",
    "        # Ensure all required keys are present in the JSON\n",
    "        required_keys = ['CountContraction', 'ContractionLength', 'STD', 'Entropy', 'ContractionTimes']\n",
    "        for key in required_keys:\n",
    "            if key not in data:\n",
    "                return jsonify({'error': f'Missing input data: {key}'}), 400\n",
    "        \n",
    "        # Extract features from input data\n",
    "        features = [\n",
    "            data['CountContraction'],\n",
    "            data['ContractionLength'],\n",
    "            data['STD'],\n",
    "            data['Entropy'],\n",
    "            data['ContractionTimes']\n",
    "        ]\n",
    "        \n",
    "        # Convert features to a numpy array and reshape\n",
    "        features_array = np.array(features).reshape(1, -1)\n",
    "        \n",
    "        # Make prediction using the loaded model\n",
    "        prediction = preterm_classifier.predict(features_array)[0]\n",
    "        \n",
    "        # Return the prediction as JSON response\n",
    "        return jsonify({'prediction': prediction})\n",
    "    \n",
    "    except Exception as e:\n",
    "        return jsonify({'error': str(e)}), 500\n",
    "\n",
    "if __name__ == '__main__':\n",
    "    # Run the app on localhost and port 5000\n",
    "    app.run(host='0.0.0.0', port=5000)\n"
   ]
  },
  {
   "cell_type": "code",
   "execution_count": null,
   "id": "13a3d1a2",
   "metadata": {},
   "outputs": [],
   "source": []
  }
 ],
 "metadata": {
  "kernelspec": {
   "display_name": "Python 3 (ipykernel)",
   "language": "python",
   "name": "python3"
  },
  "language_info": {
   "codemirror_mode": {
    "name": "ipython",
    "version": 3
   },
   "file_extension": ".py",
   "mimetype": "text/x-python",
   "name": "python",
   "nbconvert_exporter": "python",
   "pygments_lexer": "ipython3",
   "version": "3.11.3"
  }
 },
 "nbformat": 4,
 "nbformat_minor": 5
}
